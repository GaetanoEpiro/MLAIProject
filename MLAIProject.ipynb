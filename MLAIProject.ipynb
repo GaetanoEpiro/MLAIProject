{
  "nbformat": 4,
  "nbformat_minor": 0,
  "metadata": {
    "colab": {
      "name": "MLAIProject.ipynb",
      "provenance": [],
      "mount_file_id": "1m2FBmCofsv2u5XCjswQ-wABkOjEaCCZu",
      "authorship_tag": "ABX9TyOYzvvqYmAyzRXnzP0wt14x"
    },
    "kernelspec": {
      "name": "python3",
      "display_name": "Python 3"
    }
  },
  "cells": [
    {
      "cell_type": "code",
      "metadata": {
        "id": "3FuIAZq8aBrI"
      },
      "source": [
        "!pip install torch==1.4.0\r\n",
        "!pip install torchvision==0.5.0\r\n",
        "!pip install tensorflow-gpu==1.15.0\r\n",
        "!pip install scipy==1.5.2"
      ],
      "execution_count": null,
      "outputs": []
    },
    {
      "cell_type": "code",
      "metadata": {
        "id": "D3pzE5MFbHXk"
      },
      "source": [
        "!git clone https://github.com/GaetanoEpiro/MLAIProject.git"
      ],
      "execution_count": null,
      "outputs": []
    },
    {
      "cell_type": "code",
      "metadata": {
        "id": "KMviC6L-bRJy"
      },
      "source": [
        "%pwd"
      ],
      "execution_count": null,
      "outputs": []
    },
    {
      "cell_type": "code",
      "metadata": {
        "id": "0b0Qep5TbXuh"
      },
      "source": [
        "%cd /content/MLAIProject/"
      ],
      "execution_count": null,
      "outputs": []
    },
    {
      "cell_type": "code",
      "metadata": {
        "id": "i8c2TUxMmhpF"
      },
      "source": [
        "from google.colab import drive\n",
        "drive.mount('/content/drive')"
      ],
      "execution_count": null,
      "outputs": []
    },
    {
      "cell_type": "code",
      "metadata": {
        "id": "CUDieejCbd-p"
      },
      "source": [
        "!python train_DG.py --source photo cartoon sketch --target art_painting"
      ],
      "execution_count": null,
      "outputs": []
    }
  ]
}