{
  "nbformat": 4,
  "nbformat_minor": 0,
  "metadata": {
    "colab": {
      "name": "MLAIProject.ipynb",
      "provenance": [],
      "collapsed_sections": [],
      "mount_file_id": "1m2FBmCofsv2u5XCjswQ-wABkOjEaCCZu",
      "authorship_tag": "ABX9TyMnPInmCYVnn/luQ4Yr8XCb",
      "include_colab_link": true
    },
    "kernelspec": {
      "name": "python3",
      "display_name": "Python 3"
    }
  },
  "cells": [
    {
      "cell_type": "markdown",
      "metadata": {
        "id": "view-in-github",
        "colab_type": "text"
      },
      "source": [
        "<a href=\"https://colab.research.google.com/github/GaetanoEpiro/MLAIProject/blob/master/MLAIProject.ipynb\" target=\"_parent\"><img src=\"https://colab.research.google.com/assets/colab-badge.svg\" alt=\"Open In Colab\"/></a>"
      ]
    },
    {
      "cell_type": "markdown",
      "metadata": {
        "id": "gK_KW_8bsy4y"
      },
      "source": [
        "**Install libraries**"
      ]
    },
    {
      "cell_type": "code",
      "metadata": {
        "id": "3FuIAZq8aBrI"
      },
      "source": [
        "!pip install torch==1.4.0\r\n",
        "!pip install torchvision==0.5.0\r\n",
        "!pip install tensorflow-gpu==1.15.0\r\n",
        "!pip install scipy==1.5.2"
      ],
      "execution_count": null,
      "outputs": []
    },
    {
      "cell_type": "markdown",
      "metadata": {
        "id": "yB9pP5-ms9UO"
      },
      "source": [
        "**Clone the repository with the code**"
      ]
    },
    {
      "cell_type": "code",
      "metadata": {
        "id": "D3pzE5MFbHXk"
      },
      "source": [
        "!git clone https://github.com/GaetanoEpiro/MLAIProject.git"
      ],
      "execution_count": null,
      "outputs": []
    },
    {
      "cell_type": "markdown",
      "metadata": {
        "id": "3jmaEb2gtM8H"
      },
      "source": [
        "**Go inside the appropriate folder**"
      ]
    },
    {
      "cell_type": "code",
      "metadata": {
        "id": "0b0Qep5TbXuh"
      },
      "source": [
        "%cd /content/MLAIProject/"
      ],
      "execution_count": null,
      "outputs": []
    },
    {
      "cell_type": "markdown",
      "metadata": {
        "id": "DwldUCx-tQ6G"
      },
      "source": [
        "**Open the google drive containing the pretrained model**"
      ]
    },
    {
      "cell_type": "code",
      "metadata": {
        "id": "i8c2TUxMmhpF"
      },
      "source": [
        "from google.colab import drive\n",
        "drive.mount('/content/drive')"
      ],
      "execution_count": null,
      "outputs": []
    },
    {
      "cell_type": "markdown",
      "metadata": {
        "id": "V9_gWjPGtX1d"
      },
      "source": [
        "**Run**"
      ]
    },
    {
      "cell_type": "code",
      "metadata": {
        "id": "CUDieejCbd-p"
      },
      "source": [
        "!python train_DG.py --source photo cartoon sketch --target art_painting"
      ],
      "execution_count": null,
      "outputs": []
    }
  ]
}