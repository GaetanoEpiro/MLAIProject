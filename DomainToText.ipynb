{
  "nbformat": 4,
  "nbformat_minor": 0,
  "metadata": {
    "colab": {
      "name": "Untitled0.ipynb",
      "provenance": [],
      "authorship_tag": "ABX9TyOaQfRF3To+LauVoBY0kmJn",
      "include_colab_link": true
    },
    "kernelspec": {
      "name": "python3",
      "display_name": "Python 3"
    },
    "language_info": {
      "name": "python"
    },
    "accelerator": "GPU"
  },
  "cells": [
    {
      "cell_type": "markdown",
      "metadata": {
        "id": "view-in-github",
        "colab_type": "text"
      },
      "source": [
        "<a href=\"https://colab.research.google.com/github/GaetanoEpiro/MLAIProject/blob/master/DomainToText.ipynb\" target=\"_parent\"><img src=\"https://colab.research.google.com/assets/colab-badge.svg\" alt=\"Open In Colab\"/></a>"
      ]
    },
    {
      "cell_type": "markdown",
      "source": [
        "**Install required libraries**"
      ],
      "metadata": {
        "id": "YS7DpkzcEg0Z"
      }
    },
    {
      "cell_type": "code",
      "execution_count": null,
      "metadata": {
        "id": "45J9QRYKEUla"
      },
      "outputs": [],
      "source": [
        "!pip install torch==1.4.0\n",
        "!pip install torchvision==0.5.0\n",
        "!pip install future==0.18.2\n",
        "!pip install Pillow==6.2.2\n",
        "!pip install numpy==1.17.0\n",
        "!pip install transformers==4.11.0\n",
        "!pip install tqdm==4.48.2"
      ]
    },
    {
      "cell_type": "markdown",
      "source": [
        "**Clone repository from Github**"
      ],
      "metadata": {
        "id": "bT1sADj7Eo-b"
      }
    },
    {
      "cell_type": "code",
      "source": [
        "!git clone https://github.com/GaetanoEpiro/MLAI_DomainToText.git"
      ],
      "metadata": {
        "id": "LGSanmYOFyq3"
      },
      "execution_count": null,
      "outputs": []
    },
    {
      "cell_type": "markdown",
      "source": [
        "**Move inside the correct directory**"
      ],
      "metadata": {
        "id": "AIWQfJXDF5E9"
      }
    },
    {
      "cell_type": "code",
      "source": [
        "%cd /content/MLAI_DomainToText/"
      ],
      "metadata": {
        "id": "8-Vm7ewtF4Wv"
      },
      "execution_count": null,
      "outputs": []
    },
    {
      "cell_type": "markdown",
      "source": [
        "**Load Google Drive**"
      ],
      "metadata": {
        "id": "wMS70HWIGLGc"
      }
    },
    {
      "cell_type": "code",
      "source": [
        "from google.colab import drive\n",
        "drive.mount('/content/drive')"
      ],
      "metadata": {
        "id": "3MVq_bN9GKjr",
        "colab": {
          "base_uri": "https://localhost:8080/"
        },
        "outputId": "140b9acb-4040-450f-af7b-14fd414363c0"
      },
      "execution_count": 6,
      "outputs": [
        {
          "output_type": "stream",
          "name": "stdout",
          "text": [
            "Mounted at /content/drive\n"
          ]
        }
      ]
    },
    {
      "cell_type": "markdown",
      "source": [
        "**Run training**"
      ],
      "metadata": {
        "id": "BdddV1aDSnp-"
      }
    },
    {
      "cell_type": "code",
      "source": [
        "!python eval_ensamble.py"
      ],
      "metadata": {
        "id": "RYgNhuCOSW_l"
      },
      "execution_count": null,
      "outputs": []
    }
  ]
}